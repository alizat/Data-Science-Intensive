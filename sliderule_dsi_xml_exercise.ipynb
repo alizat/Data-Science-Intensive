{
 "cells": [
  {
   "cell_type": "markdown",
   "metadata": {},
   "source": [
    "# XML example and exercise\n",
    "****\n",
    "+ study examples of accessing nodes in XML tree structure  \n",
    "+ work on exercise to be completed and submitted\n",
    "****\n",
    "+ reference: https://docs.python.org/2.7/library/xml.etree.elementtree.html\n",
    "+ data source: http://www.dbis.informatik.uni-goettingen.de/Mondial\n",
    "****"
   ]
  },
  {
   "cell_type": "code",
   "execution_count": 1,
   "metadata": {
    "collapsed": true
   },
   "outputs": [],
   "source": [
    "from xml.etree import ElementTree as ET"
   ]
  },
  {
   "cell_type": "markdown",
   "metadata": {},
   "source": [
    "## XML example\n",
    "\n",
    "+ for details about tree traversal and iterators, see https://docs.python.org/2.7/library/xml.etree.elementtree.html"
   ]
  },
  {
   "cell_type": "code",
   "execution_count": 2,
   "metadata": {
    "collapsed": true
   },
   "outputs": [],
   "source": [
    "document_tree = ET.parse( './data/mondial_database_less.xml' )"
   ]
  },
  {
   "cell_type": "code",
   "execution_count": 3,
   "metadata": {
    "collapsed": false
   },
   "outputs": [
    {
     "name": "stdout",
     "output_type": "stream",
     "text": [
      "Albania\n",
      "Greece\n",
      "Macedonia\n",
      "Serbia\n",
      "Montenegro\n",
      "Kosovo\n",
      "Andorra\n"
     ]
    }
   ],
   "source": [
    "# print names of all countries\n",
    "for child in document_tree.getroot():\n",
    "    print child.find('name').text"
   ]
  },
  {
   "cell_type": "code",
   "execution_count": 4,
   "metadata": {
    "collapsed": false
   },
   "outputs": [
    {
     "name": "stdout",
     "output_type": "stream",
     "text": [
      "* Albania: Tirana, Shkodër, Durrës, Vlorë, Elbasan, Korçë\n",
      "* Greece: Komotini, Kavala, Athina, Peiraias, Peristeri, Acharnes, Patra, Kozani, Kerkyra, Ioannina, Thessaloniki, Iraklio, Chania, Ermoupoli, Rhodes, Tripoli, Lamia, Chalkida, Larissa, Volos, Mytilini, Karyes\n",
      "* Macedonia: Skopje, Kumanovo\n",
      "* Serbia: Beograd, Novi Sad, Niš\n",
      "* Montenegro: Podgorica\n",
      "* Kosovo: Prishtine\n",
      "* Andorra: Andorra la Vella\n"
     ]
    }
   ],
   "source": [
    "# print names of all countries and their cities\n",
    "for element in document_tree.iterfind('country'):\n",
    "    print '* ' + element.find('name').text + ':',\n",
    "    capitals_string = ''\n",
    "    for subelement in element.getiterator('city'):\n",
    "        capitals_string += subelement.find('name').text + ', '\n",
    "    print capitals_string[:-2]"
   ]
  },
  {
   "cell_type": "markdown",
   "metadata": {},
   "source": [
    "****\n",
    "## XML exercise\n",
    "\n",
    "Using data in 'data/mondial_database.xml', the examples above, and refering to https://docs.python.org/2.7/library/xml.etree.elementtree.html, find\n",
    "\n",
    "1. 10 countries with the lowest infant mortality rates\n",
    "2. 10 cities with the largest population\n",
    "3. 10 ethnic groups with the largest overall populations (sum of best/latest estimates over all countries)\n",
    "4. name and country of a) longest river, b) largest lake and c) airport at highest elevation"
   ]
  },
  {
   "cell_type": "code",
   "execution_count": 5,
   "metadata": {
    "collapsed": true
   },
   "outputs": [],
   "source": [
    "document = ET.parse( './data/mondial_database.xml' )"
   ]
  },
  {
   "cell_type": "code",
   "execution_count": null,
   "metadata": {
    "collapsed": true
   },
   "outputs": [],
   "source": []
  },
  {
   "cell_type": "code",
   "execution_count": 6,
   "metadata": {
    "collapsed": true
   },
   "outputs": [],
   "source": [
    "import pandas as pd"
   ]
  },
  {
   "cell_type": "code",
   "execution_count": null,
   "metadata": {
    "collapsed": true
   },
   "outputs": [],
   "source": []
  },
  {
   "cell_type": "code",
   "execution_count": 7,
   "metadata": {
    "collapsed": false
   },
   "outputs": [
    {
     "data": {
      "text/html": [
       "<div>\n",
       "<table border=\"1\" class=\"dataframe\">\n",
       "  <thead>\n",
       "    <tr style=\"text-align: right;\">\n",
       "      <th></th>\n",
       "      <th>country</th>\n",
       "      <th>infantMortalityRate</th>\n",
       "    </tr>\n",
       "  </thead>\n",
       "  <tbody>\n",
       "    <tr>\n",
       "      <th>194</th>\n",
       "      <td>Western Sahara</td>\n",
       "      <td>145.82</td>\n",
       "    </tr>\n",
       "    <tr>\n",
       "      <th>54</th>\n",
       "      <td>Afghanistan</td>\n",
       "      <td>117.23</td>\n",
       "    </tr>\n",
       "    <tr>\n",
       "      <th>189</th>\n",
       "      <td>Mali</td>\n",
       "      <td>104.34</td>\n",
       "    </tr>\n",
       "    <tr>\n",
       "      <th>226</th>\n",
       "      <td>Somalia</td>\n",
       "      <td>100.14</td>\n",
       "    </tr>\n",
       "    <tr>\n",
       "      <th>213</th>\n",
       "      <td>Central African Republic</td>\n",
       "      <td>92.86</td>\n",
       "    </tr>\n",
       "    <tr>\n",
       "      <th>230</th>\n",
       "      <td>Guinea-Bissau</td>\n",
       "      <td>90.92</td>\n",
       "    </tr>\n",
       "    <tr>\n",
       "      <th>214</th>\n",
       "      <td>Chad</td>\n",
       "      <td>90.30</td>\n",
       "    </tr>\n",
       "    <tr>\n",
       "      <th>192</th>\n",
       "      <td>Niger</td>\n",
       "      <td>86.27</td>\n",
       "    </tr>\n",
       "    <tr>\n",
       "      <th>195</th>\n",
       "      <td>Angola</td>\n",
       "      <td>79.99</td>\n",
       "    </tr>\n",
       "    <tr>\n",
       "      <th>201</th>\n",
       "      <td>Burkina Faso</td>\n",
       "      <td>76.80</td>\n",
       "    </tr>\n",
       "  </tbody>\n",
       "</table>\n",
       "</div>"
      ],
      "text/plain": [
       "                      country  infantMortalityRate\n",
       "194            Western Sahara               145.82\n",
       "54                Afghanistan               117.23\n",
       "189                      Mali               104.34\n",
       "226                   Somalia               100.14\n",
       "213  Central African Republic                92.86\n",
       "230             Guinea-Bissau                90.92\n",
       "214                      Chad                90.30\n",
       "192                     Niger                86.27\n",
       "195                    Angola                79.99\n",
       "201              Burkina Faso                76.80"
      ]
     },
     "execution_count": 7,
     "metadata": {},
     "output_type": "execute_result"
    }
   ],
   "source": [
    "### 1. 10 countries with the lowest infant mortality rates\n",
    "\n",
    "# define data frame to populate with extracted values from xml file\n",
    "df1 = pd.DataFrame(columns = ['country', 'infantMortalityRate'])\n",
    "\n",
    "# loop over countries to get name & infant mortality rate\n",
    "i = 0\n",
    "for country in document.findall('country'):\n",
    "    countryName = country.find('name').text\n",
    "    if country.find('infant_mortality') is None:\n",
    "        infantMortalityRate = float('NaN')\n",
    "    else:\n",
    "        infantMortalityRate = float(country.find('infant_mortality').text)\n",
    "    df1.loc[i] = [countryName, infantMortalityRate]\n",
    "    i += 1\n",
    "\n",
    "# get top 10 countries with highest infant mortality rates\n",
    "df1.sort_values('infantMortalityRate', ascending=False)[:10]"
   ]
  },
  {
   "cell_type": "code",
   "execution_count": 8,
   "metadata": {
    "collapsed": false
   },
   "outputs": [
    {
     "data": {
      "text/html": [
       "<div>\n",
       "<table border=\"1\" class=\"dataframe\">\n",
       "  <thead>\n",
       "    <tr style=\"text-align: right;\">\n",
       "      <th></th>\n",
       "      <th>city</th>\n",
       "      <th>population</th>\n",
       "    </tr>\n",
       "  </thead>\n",
       "  <tbody>\n",
       "    <tr>\n",
       "      <th>176</th>\n",
       "      <td>Seoul</td>\n",
       "      <td>9708483.0</td>\n",
       "    </tr>\n",
       "    <tr>\n",
       "      <th>164</th>\n",
       "      <td>Al Qahirah</td>\n",
       "      <td>8471859.0</td>\n",
       "    </tr>\n",
       "    <tr>\n",
       "      <th>80</th>\n",
       "      <td>Bangkok</td>\n",
       "      <td>7506700.0</td>\n",
       "    </tr>\n",
       "    <tr>\n",
       "      <th>128</th>\n",
       "      <td>Hong Kong</td>\n",
       "      <td>7055071.0</td>\n",
       "    </tr>\n",
       "    <tr>\n",
       "      <th>92</th>\n",
       "      <td>Ho Chi Minh</td>\n",
       "      <td>5968384.0</td>\n",
       "    </tr>\n",
       "    <tr>\n",
       "      <th>212</th>\n",
       "      <td>Singapore</td>\n",
       "      <td>5076700.0</td>\n",
       "    </tr>\n",
       "    <tr>\n",
       "      <th>163</th>\n",
       "      <td>Al Iskandariyah</td>\n",
       "      <td>4123869.0</td>\n",
       "    </tr>\n",
       "    <tr>\n",
       "      <th>216</th>\n",
       "      <td>New Taipei</td>\n",
       "      <td>3939305.0</td>\n",
       "    </tr>\n",
       "    <tr>\n",
       "      <th>177</th>\n",
       "      <td>Busan</td>\n",
       "      <td>3403135.0</td>\n",
       "    </tr>\n",
       "    <tr>\n",
       "      <th>107</th>\n",
       "      <td>Pyongyang</td>\n",
       "      <td>3255288.0</td>\n",
       "    </tr>\n",
       "  </tbody>\n",
       "</table>\n",
       "</div>"
      ],
      "text/plain": [
       "                city  population\n",
       "176            Seoul   9708483.0\n",
       "164       Al Qahirah   8471859.0\n",
       "80           Bangkok   7506700.0\n",
       "128        Hong Kong   7055071.0\n",
       "92       Ho Chi Minh   5968384.0\n",
       "212        Singapore   5076700.0\n",
       "163  Al Iskandariyah   4123869.0\n",
       "216       New Taipei   3939305.0\n",
       "177            Busan   3403135.0\n",
       "107        Pyongyang   3255288.0"
      ]
     },
     "execution_count": 8,
     "metadata": {},
     "output_type": "execute_result"
    }
   ],
   "source": [
    "# 2. 10 cities with the largest population\n",
    "\n",
    "# define data frame to populate with extracted values from xml file\n",
    "df2 = pd.DataFrame(columns = ['city', 'population'])\n",
    "\n",
    "# loop over cities to get name & latest recorded population\n",
    "i = 0\n",
    "for country in document.findall('country'):\n",
    "    for city in country.findall('city'):\n",
    "        cityName = city.find('name').text\n",
    "        year = 0\n",
    "        cityPopulation = 0\n",
    "        for population in city.findall('population'):\n",
    "            if 'year' in population.attrib and int(population.attrib['year']) > year:\n",
    "                cityPopulation = int(population.text)\n",
    "        df2.loc[i] = [cityName, cityPopulation]\n",
    "        i += 1\n",
    "\n",
    "# get top 10 cities with largest populations\n",
    "df2.sort_values('population', ascending=False)[:10]"
   ]
  },
  {
   "cell_type": "code",
   "execution_count": 9,
   "metadata": {
    "collapsed": false
   },
   "outputs": [
    {
     "data": {
      "text/html": [
       "<div>\n",
       "<table border=\"1\" class=\"dataframe\">\n",
       "  <thead>\n",
       "    <tr style=\"text-align: right;\">\n",
       "      <th></th>\n",
       "      <th>population</th>\n",
       "    </tr>\n",
       "  </thead>\n",
       "  <tbody>\n",
       "    <tr>\n",
       "      <th>Han Chinese</th>\n",
       "      <td>1.245059e+11</td>\n",
       "    </tr>\n",
       "    <tr>\n",
       "      <th>Indo-Aryan</th>\n",
       "      <td>8.718156e+10</td>\n",
       "    </tr>\n",
       "    <tr>\n",
       "      <th>European</th>\n",
       "      <td>4.948722e+10</td>\n",
       "    </tr>\n",
       "    <tr>\n",
       "      <th>African</th>\n",
       "      <td>3.183251e+10</td>\n",
       "    </tr>\n",
       "    <tr>\n",
       "      <th>Dravidian</th>\n",
       "      <td>3.027137e+10</td>\n",
       "    </tr>\n",
       "    <tr>\n",
       "      <th>Mestizo</th>\n",
       "      <td>1.577344e+10</td>\n",
       "    </tr>\n",
       "    <tr>\n",
       "      <th>Bengali</th>\n",
       "      <td>1.467769e+10</td>\n",
       "    </tr>\n",
       "    <tr>\n",
       "      <th>Russian</th>\n",
       "      <td>1.318570e+10</td>\n",
       "    </tr>\n",
       "    <tr>\n",
       "      <th>Japanese</th>\n",
       "      <td>1.265342e+10</td>\n",
       "    </tr>\n",
       "    <tr>\n",
       "      <th>Malay</th>\n",
       "      <td>1.219936e+10</td>\n",
       "    </tr>\n",
       "  </tbody>\n",
       "</table>\n",
       "</div>"
      ],
      "text/plain": [
       "               population\n",
       "Han Chinese  1.245059e+11\n",
       "Indo-Aryan   8.718156e+10\n",
       "European     4.948722e+10\n",
       "African      3.183251e+10\n",
       "Dravidian    3.027137e+10\n",
       "Mestizo      1.577344e+10\n",
       "Bengali      1.467769e+10\n",
       "Russian      1.318570e+10\n",
       "Japanese     1.265342e+10\n",
       "Malay        1.219936e+10"
      ]
     },
     "execution_count": 9,
     "metadata": {},
     "output_type": "execute_result"
    }
   ],
   "source": [
    "# 3. 10 ethnic groups with the largest overall populations (sum of best/latest estimates over all countries)\n",
    "\n",
    "# define dictionary to hold aggregated population of ethnic groups\n",
    "ethnicPopulations = {}\n",
    "\n",
    "# loop over countries to get ethnic groups & their populations\n",
    "i = 0\n",
    "for country in document.findall('country'):\n",
    "    # get country's population\n",
    "    year = 0\n",
    "    pop = 0\n",
    "    for population in country.findall('population'):\n",
    "        if 'year' in population.attrib and int(population.attrib['year']) > year:\n",
    "            countryPopulation = int(population.text)\n",
    "\n",
    "    # calculate ethnic group populations for current country & update dictionary in the process\n",
    "    for ethnicgroup in country.findall('ethnicgroup'):\n",
    "        eg = ethnicgroup.text\n",
    "        egPercentage = float(ethnicgroup.attrib['percentage'])\n",
    "        egPopulation = egPercentage * countryPopulation\n",
    "        if ethnicPopulations.has_key(eg):\n",
    "            ethnicPopulations[eg] = ethnicPopulations[eg] + egPopulation\n",
    "        else:\n",
    "            ethnicPopulations[eg] = egPopulation\n",
    "\n",
    "# get top 10 ethnic groups with largest overall populations\n",
    "df3 = pd.DataFrame.from_dict(ethnicPopulations, orient = 'index')\n",
    "df3.columns = ['population']\n",
    "df3.sort_values('population', ascending=False)[:10]"
   ]
  },
  {
   "cell_type": "code",
   "execution_count": 10,
   "metadata": {
    "collapsed": false
   },
   "outputs": [
    {
     "name": "stdout",
     "output_type": "stream",
     "text": [
      "Longest River: Amazonas\n",
      "  Length: 6448.0\n",
      "  Country: ['Colombia', 'Brazil', 'Peru']\n",
      "\n",
      "Largest Lake: Caspian Sea\n",
      "  Area: 386400.0\n",
      "  Country: ['Russia', 'Azerbaijan', 'Kazakhstan', 'Iran', 'Turkmenistan']\n",
      "\n",
      "Highest Airport: El Alto Intl\n",
      "  Elevation: 4063.0\n",
      "  Country: ['Bolivia']\n",
      "\n"
     ]
    }
   ],
   "source": [
    "# 4. name and country of a) longest river, b) largest lake and c) airport at highest elevation\n",
    "\n",
    "# get countries and their codes\n",
    "i = 0\n",
    "countryCodes = pd.DataFrame(columns = ['country', 'code'])\n",
    "for country in document.findall('country'):\n",
    "    countryCode = country.attrib['car_code']\n",
    "    countryCodes.loc[i] = [country.find('name').text, countryCode]\n",
    "    i += 1\n",
    "countryCodes = countryCodes.set_index('code')\n",
    "\n",
    "\n",
    "# LONGEST RIVER\n",
    "longestRiverLength = 0\n",
    "longestRiverName = \"\"\n",
    "longestRiverCountryCode = \"\"\n",
    "\n",
    "for river in document.findall('river'):\n",
    "    if river.find('length') is not None:\n",
    "        riverLength = float(river.find('length').text)\n",
    "        if longestRiverLength < riverLength:\n",
    "            longestRiverLength = riverLength\n",
    "            longestRiverName = river.find('name').text\n",
    "            longestRiverCountryCode = river.attrib['country']\n",
    "\n",
    "riverCountries = countryCodes.loc[str.split(longestRiverCountryCode)]\n",
    "print \"Longest River:\", longestRiverName\n",
    "print \"  Length:\", longestRiverLength\n",
    "print \"  Country:\", list(riverCountries['country'])\n",
    "print \"\"\n",
    "\n",
    "\n",
    "# LARGEST LAKE\n",
    "largestLakeArea = 0\n",
    "largestLakeName = \"\"\n",
    "largestLakeCountryCode = \"\"\n",
    "\n",
    "for lake in document.findall('lake'):\n",
    "    if lake.find('area') is not None:\n",
    "        lakeArea = float(lake.find('area').text)\n",
    "        if largestLakeArea < lakeArea:\n",
    "            largestLakeArea = lakeArea\n",
    "            largestLakeName = lake.find('name').text\n",
    "            largestLakeCountryCode = lake.attrib['country']\n",
    "\n",
    "lakeCountries = countryCodes.loc[str.split(largestLakeCountryCode)]\n",
    "print \"Largest Lake:\", largestLakeName\n",
    "print \"  Area:\", largestLakeArea\n",
    "print \"  Country:\", list(lakeCountries['country'])\n",
    "print \"\"\n",
    "\n",
    "\n",
    "# HIGHEST-ELEVATED AIRPORT\n",
    "highestAirportElevation = 0\n",
    "highestAirportName = \"\"\n",
    "highestAirportCountryCode = \"\"\n",
    "\n",
    "for airport in document.findall('airport'):\n",
    "    if airport.find('elevation') is not None and airport.find('elevation').text is not None:\n",
    "        airportElevation = float(airport.find('elevation').text)\n",
    "        if highestAirportElevation < airportElevation:\n",
    "            highestAirportElevation = airportElevation\n",
    "            highestAirportName = airport.find('name').text\n",
    "            highestAirportCountryCode = airport.attrib['country']\n",
    "\n",
    "airportCountries = countryCodes.loc[str.split(highestAirportCountryCode)]\n",
    "print \"Highest Airport:\", highestAirportName\n",
    "print \"  Elevation:\", highestAirportElevation\n",
    "print \"  Country:\", list(airportCountries['country'])\n",
    "print \"\""
   ]
  },
  {
   "cell_type": "code",
   "execution_count": null,
   "metadata": {
    "collapsed": true
   },
   "outputs": [],
   "source": []
  }
 ],
 "metadata": {
  "kernelspec": {
   "display_name": "Python 2",
   "language": "python",
   "name": "python2"
  },
  "language_info": {
   "codemirror_mode": {
    "name": "ipython",
    "version": 2
   },
   "file_extension": ".py",
   "mimetype": "text/x-python",
   "name": "python",
   "nbconvert_exporter": "python",
   "pygments_lexer": "ipython2",
   "version": "2.7.11"
  }
 },
 "nbformat": 4,
 "nbformat_minor": 0
}
